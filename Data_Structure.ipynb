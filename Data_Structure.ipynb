{
  "nbformat": 4,
  "nbformat_minor": 0,
  "metadata": {
    "colab": {
      "provenance": []
    },
    "kernelspec": {
      "name": "python3",
      "display_name": "Python 3"
    },
    "language_info": {
      "name": "python"
    }
  },
  "cells": [
    {
      "cell_type": "markdown",
      "source": [
        "Theory **Questions**"
      ],
      "metadata": {
        "id": "ty0y0lk0OUAr"
      }
    },
    {
      "cell_type": "markdown",
      "source": [
        "1. What are data structures, and why are they important?\n",
        "   - Data structures are ways of storing and organizing data (like lists, stacks, queues, trees). They are important because they make data handling efficient (fast searching, sorting, and managing memory).\n",
        "\n",
        "2. Explain the difference between mutable and immutable data types with examples.\n",
        "    - Mutable vs Immutable data types\n",
        "\n",
        "     Mutable  can be changed (e.g., list, dict, set).\n",
        "     Immutable cannot be changed (e.g., str, tuple).\n",
        "     Example: my_list = [1,2,3]; my_list[0] = 100 (allowed) my_tuple = (1,2,3); my_tuple[0] = 100 (error).\n",
        "\n",
        "3. What are the main differences between lists and tuples in Python ?\n",
        "   - The main differnce between lists and tuples in Python are:-\n",
        "     List = mutable, slower, uses. Whereas\n",
        "     Tuple = immutable, faster, uses ().\n",
        "\n",
        "4. Describe how dictionaries store data .\n",
        "    - They store data as key-value pairs using a hash table internally.\n",
        "\n",
        "5. Why might you use a set instead of a list in python?\n",
        "    - We might use a set instead of a list to store unique values (no duplicates) and for faster lookup (in is O(1)).\n",
        "\n",
        "6. What is a srtring in python and how is it different from a list ?\n",
        "   - String in a python is a sequence of characters which is immutable. List is a sequence of elements which is mutable.\n",
        "\n",
        "7. How do tuples ensure data integrity in Pyhton ?\n",
        "   - Since tuples are immutable, the data cannot be changed accidentally thats how tuples ensure data intergrity in python.\n",
        "\n",
        "8. What is a hash table, and how does it relate to dictionaries in python?\n",
        "    - Hash table maps a key to an index using a hash function. Python dict is built on hash tables to relate to dictionaries in Python.\n",
        "\n",
        "9. Can lists contain different data types in python ?\n",
        "    - Yes, a list can hold int, str, float, etc. Example: [1, 'apple', 3.5].\n",
        "\n",
        "10. Explain why strings are immutable in python ?\n",
        "    - Strings are used very often so python is able to do many optimizations that wont be possible if strings were mutable Also Strings are immutable in python for security (safe sharing in memory), performance, and caching.\n",
        "\n",
        "11. What advantages do dictionaries offer over lists for certain tasks ?\n",
        "\n",
        "    - Dictionaries in python offers faster lookup by key and it is better for structured data.\n",
        "\n",
        "12. Describe a scenario where using a tuple would be preferable over a list.\n",
        "    - Using a tuple is preferable when the data should not change .\n",
        "     Ex- When storing fixed data like coordinates (x,y) or days of the week.\n",
        "     Tuples are immutable they cannot be changed accidently, it is faster & uses less memory. It can be used as dictionary keys unlike lists , Hence tuples are ideal for fixed or constant data.\n",
        "\n",
        "13. How do sets handle duplicates values in python?\n",
        "    - In python a set is a collection of unique elements. This means sets automatically eliminate duplicates when storing data. If the same value is inserted multiple times, Python will keep only copy of it.\n",
        "      -  Sets are useful when we need to store unique data only.\n",
        "      - They can also be used for operations like union,intersection and differences.\n",
        "\n",
        "14. How does the \"in\" keyword work differently for lists and dictionaries?\n",
        "    - For Lists:-\n",
        "         - The keyword checks if a given valueor element exists in the list.\n",
        "           Eg- [1,2,3]\n",
        "                2 in [1,2,3] = True.\n",
        "\n",
        "    - For Dictionaries:-\n",
        "       - The keyword checks if a given item exists as a key in the dictionary.\n",
        "       Eg- {\"name: \"Sruti\", \"age\": 23}\n",
        "            \"name\" in dict = True\n",
        "            \"Sruti\" in dict =False\n",
        "        In short we can also summarise this with List checks values and Dictionary checks keys.\n",
        "\n",
        "15. Can you modify the elements of tuple ? Explain why or why not?\n",
        "    - No we cannot modify elements of a tuple.\n",
        "      - Tuples are immutable in python it means once created , their elements cannot be changed, added or removed.\n",
        "         - Reasons For Why:- Immutability ensures that tuples are fixed and relaibe, which makes them useful for storing constant data.This also allows tuples to be used as keys in dictionaries and as elements in sets because immutable objects are hashable.\n",
        "\n",
        "        - Reasons for why not:- If a tuple contains a mutable object (like a list), the tuple itself cannot be changed but the list inside it can be modified\n",
        "\n",
        "16. What is a nested dictionary and give an example of its use case ?\n",
        "  - A nested dictionary is a inside another dictionary. It allows storing multiple levels of key value  pairs It is often used to represent complex data structures like JSON, records, or objects\n",
        "     -  Use case-\n",
        "           Storing student details- A nested dictionary can be used to store data of multiple students where each student has their own details.  \n",
        "           - Eg-students = {\n",
        "    \"101\": {\n",
        "        \"name\": \"Riya\",\n",
        "        \"age\": 20,\n",
        "        \"marks\": {\"math\": 90, \"science\": 85}\n",
        "    },\n",
        "    \"102\": {\n",
        "        \"name\": \"Amit\",\n",
        "        \"age\": 21,\n",
        "        \"marks\": {\"math\": 88, \"science\": 92}\n",
        "    }\n",
        "}\n",
        "\n",
        "# Accessing Amit's science marks\n",
        "print(students[\"102\"][\"marks\"][\"science\"])   # 92\n",
        "\n",
        "      \n",
        "17. Describe the time complexity of accessing elements in a dictionary.\n",
        "     - Average Case- Accesing elements in a dictionary is o(1) (constant time).\n",
        "     The reason is Python dictionaries use hash tables. So the key is hashed and directly mapped to its value.\n",
        "     - Worst Case- In rare cases like too many hasg collision, the time complexity can become O(n), where n is the number of elements in the dictionary.\n",
        "     - But in practice ,pyhton handles collisions efficiently, so this happes very rarely.\n",
        "\n",
        "18. What situations are lists preffered over dictionaries?\n",
        "     -1. Ordered data:When you need to store elements in a specific order (e.g., a sequence of numbers, names, or items).\n",
        "      2. Index-based access:When elements are accessed using positions (like list[0], list[1]) rather than unique keys.\n",
        "      3. Duplicates allowed:When you want to allow duplicate values in the collection.\n",
        "      4. Simple collection:When you only need to store values (not key–value pairs).\n",
        "      Example:fruits = [\"apple\", \"banana\", \"mango\", \"apple\"]  \n",
        "      print(fruits[1])   #banana\n",
        "\n",
        "19. Why are dictionary considered unordered and how does that affect data retrieval ?\n",
        "    - Dictionaries are considered \"unordered\" because, historically (before Python 3.7), they didn't store items in a specific sequence, meaning we couldn't rely on the order of elements for retrieval. This means we cannot access items by an index (like my_dict[0]) and must use their unique keys instead, which still allows for fast lookups but doesn't guarantee any specific iteration order\n",
        "    \n",
        "20. Explain the difference between a list and a dictionary in terms of data retrival?\n",
        "     -  The fundamental difference between lists and dictionaries in terms of data retrieval lies in their underlying structure and how elements are identified.\n",
        "         - Lists:\n",
        "         - Ordered Collection: Lists maintain a specific order of elements, meaning the position of each element is fixed relative to the others.ndexed Retrieval: Data retrieval in lists is primarily done using integer indices, starting from 0 for the first element.\n",
        "         \n",
        "         - Dictionaries-\n",
        "         - Unordered Key-Value Pairs: Dictionaries store data as key-value pairs, where each unique key is associated with a specific value. The order of these pairs is not guaranteed.Key-Based\n",
        "         - Retrieval: Data retrieval in dictionaries is performed using the associated key, which can be of various immutable data types (e.g., strings, numbers, tuples)."
      ],
      "metadata": {
        "id": "XXg9YqmIOaYr"
      }
    },
    {
      "cell_type": "markdown",
      "source": [
        " **Practical Answers**\n"
      ],
      "metadata": {
        "id": "M1LsHVclrcKr"
      }
    },
    {
      "cell_type": "code",
      "source": [
        "#1. Create a string with your name and print it\n",
        "name = \"Sruti\"\n",
        "print(name)"
      ],
      "metadata": {
        "colab": {
          "base_uri": "https://localhost:8080/"
        },
        "id": "0RbsVB3DrngV",
        "outputId": "43a55600-49a4-435e-dee2-f1fd4e3e6be3"
      },
      "execution_count": null,
      "outputs": [
        {
          "output_type": "stream",
          "name": "stdout",
          "text": [
            "Sruti\n"
          ]
        }
      ]
    },
    {
      "cell_type": "code",
      "source": [
        "#2. Find the length of \"Hello World\"\n",
        "print(len(\"Hello World\"))"
      ],
      "metadata": {
        "colab": {
          "base_uri": "https://localhost:8080/"
        },
        "id": "C8TOuZXhr09A",
        "outputId": "0b41fea7-4310-4790-948f-97ae23de38a6"
      },
      "execution_count": null,
      "outputs": [
        {
          "output_type": "stream",
          "name": "stdout",
          "text": [
            "11\n"
          ]
        }
      ]
    },
    {
      "cell_type": "code",
      "source": [
        "#3. Slice first 3 characters from \"Python Programming\"\n",
        "print(\"Python Programming\"[:3])"
      ],
      "metadata": {
        "colab": {
          "base_uri": "https://localhost:8080/"
        },
        "id": "fv6frscFr6iD",
        "outputId": "f8092001-23e8-4d3c-fdd1-a5f9c908f219"
      },
      "execution_count": null,
      "outputs": [
        {
          "output_type": "stream",
          "name": "stdout",
          "text": [
            "Pyt\n"
          ]
        }
      ]
    },
    {
      "cell_type": "code",
      "source": [
        "#4. Convert \"hello\" to uppercase\n",
        "print(\"hello\".upper())"
      ],
      "metadata": {
        "colab": {
          "base_uri": "https://localhost:8080/"
        },
        "id": "s_HSrjSYsGxZ",
        "outputId": "d2aaf913-b24a-4f99-9ae2-f90d3b44a78c"
      },
      "execution_count": null,
      "outputs": [
        {
          "output_type": "stream",
          "name": "stdout",
          "text": [
            "HELLO\n"
          ]
        }
      ]
    },
    {
      "cell_type": "code",
      "source": [
        "#5. Replace \"apple\" with \"orange\" in \"I like apple\"\n",
        "print(\"I like apple\".replace(\"apple\", \"orange\"))"
      ],
      "metadata": {
        "colab": {
          "base_uri": "https://localhost:8080/"
        },
        "id": "pPOSpPUVsLia",
        "outputId": "5cd69550-e365-4b19-f5f6-fc273c8511d4"
      },
      "execution_count": null,
      "outputs": [
        {
          "output_type": "stream",
          "name": "stdout",
          "text": [
            "I like orange\n"
          ]
        }
      ]
    },
    {
      "cell_type": "code",
      "source": [
        "#6. Create a list with numbers 1 to 5 and print it\n",
        "print([1,2,3,4,5])"
      ],
      "metadata": {
        "colab": {
          "base_uri": "https://localhost:8080/"
        },
        "id": "qTBVs4YosP36",
        "outputId": "ef5a73e9-c915-42eb-fd32-b7067f03d32d"
      },
      "execution_count": null,
      "outputs": [
        {
          "output_type": "stream",
          "name": "stdout",
          "text": [
            "[1, 2, 3, 4, 5]\n"
          ]
        }
      ]
    },
    {
      "cell_type": "code",
      "source": [
        "#7. Append 10 to list [1,2,3,4]\n",
        "lst=[1,2,3,4]\n",
        "lst.append(10)\n",
        "print(lst)"
      ],
      "metadata": {
        "id": "Pi2YtxFGsqrS"
      },
      "execution_count": null,
      "outputs": []
    },
    {
      "cell_type": "code",
      "source": [
        "#8.  Remove 3 from list [1,2,3,4,5]\n",
        "lst=[1,2,3,4,5]\n",
        "lst.remove(3)\n",
        "print(lst)"
      ],
      "metadata": {
        "id": "3Q3dUJors3BC"
      },
      "execution_count": null,
      "outputs": []
    },
    {
      "cell_type": "code",
      "source": [
        "#9. Access 2nd element in [\"a\",\"b\",\"c\",\"d\"]\n",
        "print(['a','b','c','d'][1])"
      ],
      "metadata": {
        "id": "D9ndmiSQtHzS"
      },
      "execution_count": null,
      "outputs": []
    },
    {
      "cell_type": "code",
      "source": [
        "#10. Reverse [10,20,30,40,50]\n",
        "lst=[10,20,30,40,50]\n",
        "lst.reverse()\n",
        "print(lst)"
      ],
      "metadata": {
        "id": "NYJ4QD7rtNRp"
      },
      "execution_count": null,
      "outputs": []
    },
    {
      "cell_type": "code",
      "source": [
        "#11. Create tuple (100,200,300)\n",
        "t=(100,200,300)\n",
        "print(t)"
      ],
      "metadata": {
        "id": "lnalMkcOtSZR"
      },
      "execution_count": null,
      "outputs": []
    },
    {
      "cell_type": "code",
      "source": [
        "#12. Access 2nd last element in (\"red\",\"green\",\"blue\",\"yellow\")\n",
        "colors=(\"red\",\"green\",\"blue\",\"yellow\")\n",
        "print(colors[-2])"
      ],
      "metadata": {
        "id": "VcZk-YDctZnv"
      },
      "execution_count": null,
      "outputs": []
    },
    {
      "cell_type": "code",
      "source": [
        "#13. Find minimum in (10,20,5,15)\n",
        "nums=(10,20,5,15)\n",
        "print(min(nums))"
      ],
      "metadata": {
        "id": "jBzdgr_XtjvN"
      },
      "execution_count": null,
      "outputs": []
    },
    {
      "cell_type": "code",
      "source": [
        "#14. Find index of \"cat\" in (\"dog\",\"cat\",\"rabbit\")\n",
        "animals=(\"dog\",\"cat\",\"rabbit\")\n",
        "print(animals.index(\"cat\"))"
      ],
      "metadata": {
        "id": "A0mEPBO-tsTJ"
      },
      "execution_count": null,
      "outputs": []
    },
    {
      "cell_type": "code",
      "source": [
        "#15. Check if \"kiwi\" in (\"apple\",\"banana\",\"mango\")\n",
        "fruits=(\"apple\",\"banana\",\"mango\")\n",
        "print(\"kiwi\" in fruits)"
      ],
      "metadata": {
        "id": "0hZUmCbNtxMp"
      },
      "execution_count": null,
      "outputs": []
    },
    {
      "cell_type": "code",
      "source": [
        "#16. Create set {\"a\",\"b\",\"c\"}\n",
        "s={\"a\",\"b\",\"c\"}\n",
        "print(s)"
      ],
      "metadata": {
        "id": "TgUHoOOFt1sf"
      },
      "execution_count": null,
      "outputs": []
    },
    {
      "cell_type": "code",
      "source": [
        "#17. Clear {1,2,3,4,5}\n",
        "s={1,2,3,4,5}\n",
        "s.clear()\n",
        "print(s)"
      ],
      "metadata": {
        "id": "7GpNjLXruAMe"
      },
      "execution_count": null,
      "outputs": []
    },
    {
      "cell_type": "code",
      "source": [
        "#18. Remove 4 from {1,2,3,4}\n",
        "s={1,2,3,4}\n",
        "s.remove(4)\n",
        "print(s)"
      ],
      "metadata": {
        "id": "TFLL94IKuITu"
      },
      "execution_count": null,
      "outputs": []
    },
    {
      "cell_type": "code",
      "source": [
        "#19. Union of {1,2,3} & {3,4,5}\n",
        "print({1,2,3} | {3,4,5})"
      ],
      "metadata": {
        "id": "XZ0ZLXziuMGl"
      },
      "execution_count": null,
      "outputs": []
    },
    {
      "cell_type": "code",
      "source": [
        "#20. Intersection of {1,2,3} & {2,3,4}\n",
        "print({1,2,3} & {2,3,4})"
      ],
      "metadata": {
        "id": "DOWNjbqcuQ9e",
        "colab": {
          "base_uri": "https://localhost:8080/"
        },
        "outputId": "e18cb508-7743-42d4-a03a-31626f224640"
      },
      "execution_count": 11,
      "outputs": [
        {
          "output_type": "stream",
          "name": "stdout",
          "text": [
            "{2, 3}\n"
          ]
        }
      ]
    },
    {
      "cell_type": "code",
      "source": [
        "#21. Create dict {\"name\":\"John\",\"age\":25,\"city\":\"NY\"}]\n",
        "d={\"name\":\"John\",\"age\":25,\"city\":\"NY\"}\n",
        "print(d)"
      ],
      "metadata": {
        "id": "B7knnZfnuVWh",
        "colab": {
          "base_uri": "https://localhost:8080/"
        },
        "outputId": "dad17c91-0381-4ca1-b086-1d6adeb76668"
      },
      "execution_count": 12,
      "outputs": [
        {
          "output_type": "stream",
          "name": "stdout",
          "text": [
            "{'name': 'John', 'age': 25, 'city': 'NY'}\n"
          ]
        }
      ]
    },
    {
      "cell_type": "code",
      "source": [
        "#22. Add \"country\":\"USA\" to {\"name\":\"John\",\"age\":25}\n",
        "d={\"name\":\"John\",\"age\":25}\n",
        "d[\"country\"]=\"USA\"\n",
        "print(d)"
      ],
      "metadata": {
        "colab": {
          "base_uri": "https://localhost:8080/"
        },
        "id": "bkJUH_QfWYRd",
        "outputId": "2ee8f417-094a-4c8a-82f4-91c2ad22480c"
      },
      "execution_count": 10,
      "outputs": [
        {
          "output_type": "stream",
          "name": "stdout",
          "text": [
            "{'name': 'John', 'age': 25, 'country': 'USA'}\n"
          ]
        }
      ]
    },
    {
      "cell_type": "code",
      "source": [
        "#23. Access \"name\" in {\"name\":\"Alice\",\"age\":30}\n",
        "d={\"name\":\"Alice\",\"age\":30}\n",
        "print(d[\"name\"])\n"
      ],
      "metadata": {
        "colab": {
          "base_uri": "https://localhost:8080/"
        },
        "id": "cqJElSaPWb9j",
        "outputId": "3a1956a6-736e-4d30-e3a4-57348c81eaf9"
      },
      "execution_count": 9,
      "outputs": [
        {
          "output_type": "stream",
          "name": "stdout",
          "text": [
            "Alice\n"
          ]
        }
      ]
    },
    {
      "cell_type": "code",
      "source": [
        "#24. Remove \"age\" from {\"name\":\"Bob\",\"age\":22,\"city\":\"NY\"}\n",
        "d={\"name\":\"Bob\",\"age\":22,\"city\":\"New York\"}\n",
        "d.pop(\"age\")\n",
        "print(d)\n"
      ],
      "metadata": {
        "colab": {
          "base_uri": "https://localhost:8080/"
        },
        "id": "KHFJsDghWgHD",
        "outputId": "cf9d7b25-92ed-4d00-a714-bdba11c87828"
      },
      "execution_count": 7,
      "outputs": [
        {
          "output_type": "stream",
          "name": "stdout",
          "text": [
            "{'name': 'Bob', 'city': 'New York'}\n"
          ]
        }
      ]
    },
    {
      "cell_type": "code",
      "source": [
        "#25. Check if \"city\" in {\"name\":\"Alice\",\"city\":\"Paris\"}\n",
        "d={\"name\":\"Alice\",\"city\":\"Paris\"}\n",
        "print(\"city\" in d)"
      ],
      "metadata": {
        "colab": {
          "base_uri": "https://localhost:8080/"
        },
        "id": "Ft62iOPMWnSj",
        "outputId": "c92b6e6b-18e0-472e-9b64-9f2a84a0d045"
      },
      "execution_count": 6,
      "outputs": [
        {
          "output_type": "stream",
          "name": "stdout",
          "text": [
            "True\n"
          ]
        }
      ]
    },
    {
      "cell_type": "code",
      "source": [
        "#26. Create list, tuple, dict and print all\n",
        "lst=[1,2,3]\n",
        "tup=(4,5,6)\n",
        "dct={\"a\":1,\"b\":2}\n",
        "print(lst,tup,dct)"
      ],
      "metadata": {
        "colab": {
          "base_uri": "https://localhost:8080/"
        },
        "id": "wy2QU6qjWug3",
        "outputId": "7421e5e7-61d3-4d9e-fe0a-edc2e742b3cc"
      },
      "execution_count": 5,
      "outputs": [
        {
          "output_type": "stream",
          "name": "stdout",
          "text": [
            "[1, 2, 3] (4, 5, 6) {'a': 1, 'b': 2}\n"
          ]
        }
      ]
    },
    {
      "cell_type": "code",
      "source": [
        "#27. List of 5 random nums (1-100), sort ascending\n",
        "import random\n",
        "lst=random.sample(range(1,101),5)\n",
        "lst.sort()\n",
        "print(lst)"
      ],
      "metadata": {
        "colab": {
          "base_uri": "https://localhost:8080/"
        },
        "id": "kgGiVd-9WywJ",
        "outputId": "7fbb0a97-7d72-424f-f672-2699d44b761a"
      },
      "execution_count": 4,
      "outputs": [
        {
          "output_type": "stream",
          "name": "stdout",
          "text": [
            "[4, 12, 44, 63, 75]\n"
          ]
        }
      ]
    },
    {
      "cell_type": "code",
      "source": [
        "#28. Print element at index 3 in [\"apple\",\"banana\",\"cherry\",\"date\"]\n",
        "words=[\"apple\",\"banana\",\"cherry\",\"date\"]\n",
        "print(words[3])"
      ],
      "metadata": {
        "colab": {
          "base_uri": "https://localhost:8080/"
        },
        "id": "QtfdAfQ7W7OK",
        "outputId": "67374779-03b9-4818-b348-05097de01325"
      },
      "execution_count": 3,
      "outputs": [
        {
          "output_type": "stream",
          "name": "stdout",
          "text": [
            "date\n"
          ]
        }
      ]
    },
    {
      "cell_type": "code",
      "source": [
        "#29. Combine two dicts\n",
        "d1={\"a\":1,\"b\":2}\n",
        "d2={\"c\":3,\"d\":4}\n",
        "d1.update(d2)\n",
        "print(d1)"
      ],
      "metadata": {
        "colab": {
          "base_uri": "https://localhost:8080/"
        },
        "id": "iAypdEtBW_8b",
        "outputId": "77554d39-b2a2-4441-a744-1220e9e8dcfd"
      },
      "execution_count": 2,
      "outputs": [
        {
          "output_type": "stream",
          "name": "stdout",
          "text": [
            "{'a': 1, 'b': 2, 'c': 3, 'd': 4}\n"
          ]
        }
      ]
    },
    {
      "cell_type": "code",
      "source": [
        "#30. Convert list of strings to set\n",
        "lst=[\"apple\",\"banana\",\"apple\",\"cherry\"]\n",
        "print(set(lst))"
      ],
      "metadata": {
        "colab": {
          "base_uri": "https://localhost:8080/"
        },
        "id": "2KnFtKDfXDsw",
        "outputId": "627965e0-51e5-458a-829d-3fae0c0aa59d"
      },
      "execution_count": 1,
      "outputs": [
        {
          "output_type": "stream",
          "name": "stdout",
          "text": [
            "{'banana', 'apple', 'cherry'}\n"
          ]
        }
      ]
    }
  ]
}